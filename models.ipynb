{
 "cells": [
  {
   "cell_type": "code",
   "execution_count": null,
   "id": "895126cc-d360-4f92-9c3e-0aeb19aff61c",
   "metadata": {},
   "outputs": [],
   "source": []
  },
  {
   "cell_type": "code",
   "execution_count": 17,
   "id": "ed38eac6-bb88-4e07-aa63-1d917e278816",
   "metadata": {
    "tags": []
   },
   "outputs": [],
   "source": [
    "from google.cloud import bigquery\n",
    "from google.cloud import aiplatform as vertexai\n",
    "import numpy as np\n",
    "import pandas as pd\n",
    "from google.cloud.bigquery import Client, QueryJobConfig\n",
    "client = Client()"
   ]
  },
  {
   "cell_type": "code",
   "execution_count": 18,
   "id": "b30c9f27-4273-45ef-b427-2abe59dfd75a",
   "metadata": {
    "tags": []
   },
   "outputs": [],
   "source": [
    "PROJECT_ID = 'york-bb-cohort'\n",
    "BQ_LOCATION = 'US'\n",
    "REGION = 'us-west1'\n",
    "GCS_BUCKET = f\"{PROJECT_ID}-k_capbucket\"\n",
    "\n",
    "BQ_DATASET = f\"{PROJECT_ID}:p_bq\""
   ]
  },
  {
   "cell_type": "code",
   "execution_count": 122,
   "id": "69af503f-8f97-4d90-85b3-dceee306cc14",
   "metadata": {
    "tags": []
   },
   "outputs": [
    {
     "data": {
      "application/vnd.jupyter.widget-view+json": {
       "model_id": "a1e4729d1d5b48d793593aa4cf4ab83e",
       "version_major": 2,
       "version_minor": 0
      },
      "text/plain": [
       "Query is running:   0%|          |"
      ]
     },
     "metadata": {},
     "output_type": "display_data"
    },
    {
     "data": {
      "application/vnd.jupyter.widget-view+json": {
       "model_id": "c9fafc07fd704830a2a2a5c5b67f5fcb",
       "version_major": 2,
       "version_minor": 0
      },
      "text/plain": [
       "Downloading:   0%|          |"
      ]
     },
     "metadata": {},
     "output_type": "display_data"
    },
    {
     "data": {
      "text/html": [
       "<div>\n",
       "<style scoped>\n",
       "    .dataframe tbody tr th:only-of-type {\n",
       "        vertical-align: middle;\n",
       "    }\n",
       "\n",
       "    .dataframe tbody tr th {\n",
       "        vertical-align: top;\n",
       "    }\n",
       "\n",
       "    .dataframe thead th {\n",
       "        text-align: right;\n",
       "    }\n",
       "</style>\n",
       "<table border=\"1\" class=\"dataframe\">\n",
       "  <thead>\n",
       "    <tr style=\"text-align: right;\">\n",
       "      <th></th>\n",
       "      <th>unique_id</th>\n",
       "      <th>Target</th>\n",
       "      <th>pageviews</th>\n",
       "      <th>timeOnSite</th>\n",
       "      <th>browser</th>\n",
       "      <th>country</th>\n",
       "      <th>city</th>\n",
       "      <th>hitNumber</th>\n",
       "      <th>Time</th>\n",
       "      <th>hour</th>\n",
       "      <th>hitType</th>\n",
       "      <th>data_split</th>\n",
       "    </tr>\n",
       "  </thead>\n",
       "  <tbody>\n",
       "    <tr>\n",
       "      <th>0</th>\n",
       "      <td>825208713339150867514889161571</td>\n",
       "      <td>0</td>\n",
       "      <td>1</td>\n",
       "      <td>0</td>\n",
       "      <td>Chrome</td>\n",
       "      <td>Ireland</td>\n",
       "      <td>Dublin</td>\n",
       "      <td>1</td>\n",
       "      <td>0</td>\n",
       "      <td>11</td>\n",
       "      <td>PAGE</td>\n",
       "      <td>TRAIN</td>\n",
       "    </tr>\n",
       "    <tr>\n",
       "      <th>1</th>\n",
       "      <td>005722183255531111814889020341</td>\n",
       "      <td>0</td>\n",
       "      <td>1</td>\n",
       "      <td>0</td>\n",
       "      <td>Chrome</td>\n",
       "      <td>United States</td>\n",
       "      <td>Seattle</td>\n",
       "      <td>1</td>\n",
       "      <td>0</td>\n",
       "      <td>7</td>\n",
       "      <td>PAGE</td>\n",
       "      <td>TRAIN</td>\n",
       "    </tr>\n",
       "    <tr>\n",
       "      <th>2</th>\n",
       "      <td>36960218843501093914889557051</td>\n",
       "      <td>0</td>\n",
       "      <td>1</td>\n",
       "      <td>0</td>\n",
       "      <td>Firefox</td>\n",
       "      <td>India</td>\n",
       "      <td>not available in demo dataset</td>\n",
       "      <td>1</td>\n",
       "      <td>0</td>\n",
       "      <td>22</td>\n",
       "      <td>PAGE</td>\n",
       "      <td>EVAL</td>\n",
       "    </tr>\n",
       "    <tr>\n",
       "      <th>3</th>\n",
       "      <td>761427394943913937914889078901</td>\n",
       "      <td>0</td>\n",
       "      <td>1</td>\n",
       "      <td>0</td>\n",
       "      <td>Chrome</td>\n",
       "      <td>United States</td>\n",
       "      <td>Cambridge</td>\n",
       "      <td>1</td>\n",
       "      <td>0</td>\n",
       "      <td>9</td>\n",
       "      <td>PAGE</td>\n",
       "      <td>TRAIN</td>\n",
       "    </tr>\n",
       "    <tr>\n",
       "      <th>4</th>\n",
       "      <td>784132577524108316914889499101</td>\n",
       "      <td>0</td>\n",
       "      <td>1</td>\n",
       "      <td>0</td>\n",
       "      <td>Chrome</td>\n",
       "      <td>Sri Lanka</td>\n",
       "      <td>not available in demo dataset</td>\n",
       "      <td>1</td>\n",
       "      <td>0</td>\n",
       "      <td>21</td>\n",
       "      <td>PAGE</td>\n",
       "      <td>TEST</td>\n",
       "    </tr>\n",
       "  </tbody>\n",
       "</table>\n",
       "</div>"
      ],
      "text/plain": [
       "                        unique_id  Target  pageviews  timeOnSite  browser  \\\n",
       "0  825208713339150867514889161571       0          1           0   Chrome   \n",
       "1  005722183255531111814889020341       0          1           0   Chrome   \n",
       "2   36960218843501093914889557051       0          1           0  Firefox   \n",
       "3  761427394943913937914889078901       0          1           0   Chrome   \n",
       "4  784132577524108316914889499101       0          1           0   Chrome   \n",
       "\n",
       "         country                           city  hitNumber  Time  hour  \\\n",
       "0        Ireland                         Dublin          1     0    11   \n",
       "1  United States                        Seattle          1     0     7   \n",
       "2          India  not available in demo dataset          1     0    22   \n",
       "3  United States                      Cambridge          1     0     9   \n",
       "4      Sri Lanka  not available in demo dataset          1     0    21   \n",
       "\n",
       "  hitType data_split  \n",
       "0    PAGE      TRAIN  \n",
       "1    PAGE      TRAIN  \n",
       "2    PAGE       EVAL  \n",
       "3    PAGE      TRAIN  \n",
       "4    PAGE       TEST  "
      ]
     },
     "execution_count": 122,
     "metadata": {},
     "output_type": "execute_result"
    }
   ],
   "source": [
    "%%bigquery --project $PROJECT_ID\n",
    "\n",
    "CREATE OR REPLACE VIEW p_bq.ml_features AS (\n",
    "    \n",
    "SELECT \n",
    "    DISTINCT(CONCAT(visitId, hits.hitNumber)) AS unique_id,\n",
    "    IF(hits.eCommerceAction.action_type = '3', 1, 0) AS Target,\n",
    "    IFNULL(CAST(totals.pageviews AS INT64), 0) AS pageviews, \n",
    "    IFNULL(CAST(totals.timeOnSite AS INT64), 0) AS timeOnSite,  \n",
    "    IFNULL(device.browser, \"Unknown\") AS browser, \n",
    "    IFNULL(geoNetwork.country, \"Unknown\") AS country, \n",
    "    IFNULL(geoNetwork.city,'') AS city, \n",
    "    IFNULL(hits.hitNumber, 0) AS hitNumber, \n",
    "    IFNULL(hits.time, 0) AS Time,\n",
    "    IFNULL(hits.hour, 0) AS hour,\n",
    "    IFNULL(hits.type, '') AS hitType,\n",
    "\n",
    "    CASE\n",
    "      WHEN ABS(MOD(FARM_FINGERPRINT(CONCAT(fullVisitorId, visitId, hits.hitNumber)) , 10)) <= 7\n",
    "        THEN 'TRAIN'\n",
    "      WHEN ABS(MOD(FARM_FINGERPRINT(CONCAT(fullVisitorId, visitId, hits.hitNumber)) , 10)) = 8\n",
    "        THEN 'EVAL'\n",
    "      WHEN ABS(MOD(FARM_FINGERPRINT(CONCAT(fullVisitorId, visitId, hits.hitNumber)) , 10)) = 9\n",
    "        THEN 'TEST'    \n",
    "      ELSE '' END AS data_split\n",
    "    \n",
    "FROM `bigquery-public-data.google_analytics_sample.ga_sessions_201703*` AS final, \n",
    "UNNEST(hits) AS hits\n",
    ");\n",
    "\n",
    "SELECT *\n",
    "FROM p_bq.ml_features\n",
    "LIMIT 5;\n",
    "\n"
   ]
  },
  {
   "cell_type": "code",
   "execution_count": 124,
   "id": "b3a63774-22a0-45f4-a723-7ec169e56f0d",
   "metadata": {
    "tags": []
   },
   "outputs": [
    {
     "data": {
      "application/vnd.jupyter.widget-view+json": {
       "model_id": "dbaa690b325a472b9da671568b8159fd",
       "version_major": 2,
       "version_minor": 0
      },
      "text/plain": [
       "Query is running:   0%|          |"
      ]
     },
     "metadata": {},
     "output_type": "display_data"
    },
    {
     "data": {
      "text/html": [
       "<div>\n",
       "<style scoped>\n",
       "    .dataframe tbody tr th:only-of-type {\n",
       "        vertical-align: middle;\n",
       "    }\n",
       "\n",
       "    .dataframe tbody tr th {\n",
       "        vertical-align: top;\n",
       "    }\n",
       "\n",
       "    .dataframe thead th {\n",
       "        text-align: right;\n",
       "    }\n",
       "</style>\n",
       "<table border=\"1\" class=\"dataframe\">\n",
       "  <thead>\n",
       "    <tr style=\"text-align: right;\">\n",
       "      <th></th>\n",
       "    </tr>\n",
       "  </thead>\n",
       "  <tbody>\n",
       "  </tbody>\n",
       "</table>\n",
       "</div>"
      ],
      "text/plain": [
       "Empty DataFrame\n",
       "Columns: []\n",
       "Index: []"
      ]
     },
     "execution_count": 124,
     "metadata": {},
     "output_type": "execute_result"
    }
   ],
   "source": [
    "%%bigquery\n",
    "\n",
    "CREATE OR REPLACE MODEL p_bq.ml_model\n",
    "\n",
    "OPTIONS(\n",
    "  MODEL_TYPE=\"BOOSTED_TREE_CLASSIFIER\",\n",
    "  # Declare label column.\n",
    "  INPUT_LABEL_COLS=[\"target\"],\n",
    "  # Specify custom data splitting using the `data_split` column.\n",
    "  DATA_SPLIT_METHOD=\"CUSTOM\",\n",
    "  DATA_SPLIT_COL=\"data_split\",\n",
    "  # Enable Vertex Explainable AI aggregated feature attributions.\n",
    "  ENABLE_GLOBAL_EXPLAIN=True,\n",
    "  # Hyperparameter tuning arguments.\n",
    "  num_trials=8,\n",
    "  max_parallel_trials=4,\n",
    "  HPARAM_TUNING_OBJECTIVES=[\"roc_auc\"],\n",
    "  EARLY_STOP=True,\n",
    "  # Hyperpameter search space.\n",
    "  LEARN_RATE=HPARAM_RANGE(0.01, 0.1),\n",
    "  MAX_TREE_DEPTH=HPARAM_CANDIDATES([5,6]),\n",
    "  AUTO_CLASS_WEIGHTS = True\n",
    ") AS\n",
    "\n",
    "SELECT\n",
    "  * EXCEPT(unique_id)\n",
    "FROM\n",
    " p_bq.ml_features\n"
   ]
  },
  {
   "cell_type": "code",
   "execution_count": 125,
   "id": "44c1f8d8-c252-48fa-85c2-348e06395e40",
   "metadata": {
    "tags": []
   },
   "outputs": [
    {
     "data": {
      "application/vnd.jupyter.widget-view+json": {
       "model_id": "9185c439e9fd46148a59d1d1fe3b7817",
       "version_major": 2,
       "version_minor": 0
      },
      "text/plain": [
       "Query is running:   0%|          |"
      ]
     },
     "metadata": {},
     "output_type": "display_data"
    },
    {
     "data": {
      "application/vnd.jupyter.widget-view+json": {
       "model_id": "834deccc634e4f6cbec9ec363baf278c",
       "version_major": 2,
       "version_minor": 0
      },
      "text/plain": [
       "Downloading:   0%|          |"
      ]
     },
     "metadata": {},
     "output_type": "display_data"
    },
    {
     "data": {
      "text/html": [
       "<div>\n",
       "<style scoped>\n",
       "    .dataframe tbody tr th:only-of-type {\n",
       "        vertical-align: middle;\n",
       "    }\n",
       "\n",
       "    .dataframe tbody tr th {\n",
       "        vertical-align: top;\n",
       "    }\n",
       "\n",
       "    .dataframe thead th {\n",
       "        text-align: right;\n",
       "    }\n",
       "</style>\n",
       "<table border=\"1\" class=\"dataframe\">\n",
       "  <thead>\n",
       "    <tr style=\"text-align: right;\">\n",
       "      <th></th>\n",
       "      <th>trial_id</th>\n",
       "      <th>precision</th>\n",
       "      <th>recall</th>\n",
       "      <th>accuracy</th>\n",
       "      <th>f1_score</th>\n",
       "      <th>log_loss</th>\n",
       "      <th>roc_auc</th>\n",
       "    </tr>\n",
       "  </thead>\n",
       "  <tbody>\n",
       "    <tr>\n",
       "      <th>0</th>\n",
       "      <td>1</td>\n",
       "      <td>0.0</td>\n",
       "      <td>0.0</td>\n",
       "      <td>0.976305</td>\n",
       "      <td>0.0</td>\n",
       "      <td>0.141081</td>\n",
       "      <td>0.744391</td>\n",
       "    </tr>\n",
       "  </tbody>\n",
       "</table>\n",
       "</div>"
      ],
      "text/plain": [
       "   trial_id  precision  recall  accuracy  f1_score  log_loss   roc_auc\n",
       "0         1        0.0     0.0  0.976305       0.0  0.141081  0.744391"
      ]
     },
     "execution_count": 125,
     "metadata": {},
     "output_type": "execute_result"
    }
   ],
   "source": [
    "\n",
    "%%bigquery\n",
    "SELECT\n",
    "  *\n",
    "FROM\n",
    "  ML.EVALUATE(MODEL asmi_bq.ml_model)\n",
    "WHERE trial_id=1;"
   ]
  },
  {
   "cell_type": "code",
   "execution_count": 126,
   "id": "685e5fa5-d9ce-4402-859b-41bcdc83ef96",
   "metadata": {
    "tags": []
   },
   "outputs": [
    {
     "data": {
      "application/vnd.jupyter.widget-view+json": {
       "model_id": "ee2cea812fdb4ae0af451832973f8a1d",
       "version_major": 2,
       "version_minor": 0
      },
      "text/plain": [
       "Query is running:   0%|          |"
      ]
     },
     "metadata": {},
     "output_type": "display_data"
    },
    {
     "data": {
      "application/vnd.jupyter.widget-view+json": {
       "model_id": "814340a266ba43b3b77a0f34e1d7da2b",
       "version_major": 2,
       "version_minor": 0
      },
      "text/plain": [
       "Downloading:   0%|          |"
      ]
     },
     "metadata": {},
     "output_type": "display_data"
    },
    {
     "data": {
      "text/html": [
       "<div>\n",
       "<style scoped>\n",
       "    .dataframe tbody tr th:only-of-type {\n",
       "        vertical-align: middle;\n",
       "    }\n",
       "\n",
       "    .dataframe tbody tr th {\n",
       "        vertical-align: top;\n",
       "    }\n",
       "\n",
       "    .dataframe thead th {\n",
       "        text-align: right;\n",
       "    }\n",
       "</style>\n",
       "<table border=\"1\" class=\"dataframe\">\n",
       "  <thead>\n",
       "    <tr style=\"text-align: right;\">\n",
       "      <th></th>\n",
       "      <th>unique_id</th>\n",
       "      <th>action_type</th>\n",
       "      <th>visitNumber</th>\n",
       "      <th>pageviews</th>\n",
       "      <th>time_on_site</th>\n",
       "      <th>traffic_source</th>\n",
       "      <th>device_category</th>\n",
       "      <th>country</th>\n",
       "      <th>city</th>\n",
       "      <th>operating_system</th>\n",
       "      <th>traffic_campaign</th>\n",
       "      <th>visits</th>\n",
       "      <th>hits</th>\n",
       "      <th>data_split</th>\n",
       "    </tr>\n",
       "  </thead>\n",
       "  <tbody>\n",
       "    <tr>\n",
       "      <th>0</th>\n",
       "      <td>7996113244876124699_14892390253</td>\n",
       "      <td>0</td>\n",
       "      <td>1</td>\n",
       "      <td>13</td>\n",
       "      <td>342</td>\n",
       "      <td>google</td>\n",
       "      <td>desktop</td>\n",
       "      <td>Singapore</td>\n",
       "      <td>(not set)</td>\n",
       "      <td>Macintosh</td>\n",
       "      <td>(not set)</td>\n",
       "      <td>1</td>\n",
       "      <td>14</td>\n",
       "      <td>TRAIN</td>\n",
       "    </tr>\n",
       "    <tr>\n",
       "      <th>1</th>\n",
       "      <td>7996113244876124699_14892390253</td>\n",
       "      <td>0</td>\n",
       "      <td>1</td>\n",
       "      <td>13</td>\n",
       "      <td>342</td>\n",
       "      <td>google</td>\n",
       "      <td>desktop</td>\n",
       "      <td>Singapore</td>\n",
       "      <td>(not set)</td>\n",
       "      <td>Macintosh</td>\n",
       "      <td>(not set)</td>\n",
       "      <td>1</td>\n",
       "      <td>14</td>\n",
       "      <td>TRAIN</td>\n",
       "    </tr>\n",
       "    <tr>\n",
       "      <th>2</th>\n",
       "      <td>7996113244876124699_14892390253</td>\n",
       "      <td>0</td>\n",
       "      <td>1</td>\n",
       "      <td>13</td>\n",
       "      <td>342</td>\n",
       "      <td>google</td>\n",
       "      <td>desktop</td>\n",
       "      <td>Singapore</td>\n",
       "      <td>(not set)</td>\n",
       "      <td>Macintosh</td>\n",
       "      <td>(not set)</td>\n",
       "      <td>1</td>\n",
       "      <td>14</td>\n",
       "      <td>TRAIN</td>\n",
       "    </tr>\n",
       "    <tr>\n",
       "      <th>3</th>\n",
       "      <td>7996113244876124699_14892390253</td>\n",
       "      <td>0</td>\n",
       "      <td>1</td>\n",
       "      <td>13</td>\n",
       "      <td>342</td>\n",
       "      <td>google</td>\n",
       "      <td>desktop</td>\n",
       "      <td>Singapore</td>\n",
       "      <td>(not set)</td>\n",
       "      <td>Macintosh</td>\n",
       "      <td>(not set)</td>\n",
       "      <td>1</td>\n",
       "      <td>14</td>\n",
       "      <td>TRAIN</td>\n",
       "    </tr>\n",
       "    <tr>\n",
       "      <th>4</th>\n",
       "      <td>7996113244876124699_14892390253</td>\n",
       "      <td>0</td>\n",
       "      <td>1</td>\n",
       "      <td>13</td>\n",
       "      <td>342</td>\n",
       "      <td>google</td>\n",
       "      <td>desktop</td>\n",
       "      <td>Singapore</td>\n",
       "      <td>(not set)</td>\n",
       "      <td>Macintosh</td>\n",
       "      <td>(not set)</td>\n",
       "      <td>1</td>\n",
       "      <td>14</td>\n",
       "      <td>TRAIN</td>\n",
       "    </tr>\n",
       "    <tr>\n",
       "      <th>5</th>\n",
       "      <td>7996113244876124699_14892390253</td>\n",
       "      <td>0</td>\n",
       "      <td>1</td>\n",
       "      <td>13</td>\n",
       "      <td>342</td>\n",
       "      <td>google</td>\n",
       "      <td>desktop</td>\n",
       "      <td>Singapore</td>\n",
       "      <td>(not set)</td>\n",
       "      <td>Macintosh</td>\n",
       "      <td>(not set)</td>\n",
       "      <td>1</td>\n",
       "      <td>14</td>\n",
       "      <td>TRAIN</td>\n",
       "    </tr>\n",
       "    <tr>\n",
       "      <th>6</th>\n",
       "      <td>7996113244876124699_14892390253</td>\n",
       "      <td>0</td>\n",
       "      <td>1</td>\n",
       "      <td>13</td>\n",
       "      <td>342</td>\n",
       "      <td>google</td>\n",
       "      <td>desktop</td>\n",
       "      <td>Singapore</td>\n",
       "      <td>(not set)</td>\n",
       "      <td>Macintosh</td>\n",
       "      <td>(not set)</td>\n",
       "      <td>1</td>\n",
       "      <td>14</td>\n",
       "      <td>TRAIN</td>\n",
       "    </tr>\n",
       "    <tr>\n",
       "      <th>7</th>\n",
       "      <td>7996113244876124699_14892390253</td>\n",
       "      <td>0</td>\n",
       "      <td>1</td>\n",
       "      <td>13</td>\n",
       "      <td>342</td>\n",
       "      <td>google</td>\n",
       "      <td>desktop</td>\n",
       "      <td>Singapore</td>\n",
       "      <td>(not set)</td>\n",
       "      <td>Macintosh</td>\n",
       "      <td>(not set)</td>\n",
       "      <td>1</td>\n",
       "      <td>14</td>\n",
       "      <td>TRAIN</td>\n",
       "    </tr>\n",
       "    <tr>\n",
       "      <th>8</th>\n",
       "      <td>7996113244876124699_14892390253</td>\n",
       "      <td>0</td>\n",
       "      <td>1</td>\n",
       "      <td>13</td>\n",
       "      <td>342</td>\n",
       "      <td>google</td>\n",
       "      <td>desktop</td>\n",
       "      <td>Singapore</td>\n",
       "      <td>(not set)</td>\n",
       "      <td>Macintosh</td>\n",
       "      <td>(not set)</td>\n",
       "      <td>1</td>\n",
       "      <td>14</td>\n",
       "      <td>TRAIN</td>\n",
       "    </tr>\n",
       "    <tr>\n",
       "      <th>9</th>\n",
       "      <td>7996113244876124699_14892390253</td>\n",
       "      <td>0</td>\n",
       "      <td>1</td>\n",
       "      <td>13</td>\n",
       "      <td>342</td>\n",
       "      <td>google</td>\n",
       "      <td>desktop</td>\n",
       "      <td>Singapore</td>\n",
       "      <td>(not set)</td>\n",
       "      <td>Macintosh</td>\n",
       "      <td>(not set)</td>\n",
       "      <td>1</td>\n",
       "      <td>14</td>\n",
       "      <td>TRAIN</td>\n",
       "    </tr>\n",
       "  </tbody>\n",
       "</table>\n",
       "</div>"
      ],
      "text/plain": [
       "                         unique_id  action_type  visitNumber  pageviews  \\\n",
       "0  7996113244876124699_14892390253            0            1         13   \n",
       "1  7996113244876124699_14892390253            0            1         13   \n",
       "2  7996113244876124699_14892390253            0            1         13   \n",
       "3  7996113244876124699_14892390253            0            1         13   \n",
       "4  7996113244876124699_14892390253            0            1         13   \n",
       "5  7996113244876124699_14892390253            0            1         13   \n",
       "6  7996113244876124699_14892390253            0            1         13   \n",
       "7  7996113244876124699_14892390253            0            1         13   \n",
       "8  7996113244876124699_14892390253            0            1         13   \n",
       "9  7996113244876124699_14892390253            0            1         13   \n",
       "\n",
       "   time_on_site traffic_source device_category    country       city  \\\n",
       "0           342         google         desktop  Singapore  (not set)   \n",
       "1           342         google         desktop  Singapore  (not set)   \n",
       "2           342         google         desktop  Singapore  (not set)   \n",
       "3           342         google         desktop  Singapore  (not set)   \n",
       "4           342         google         desktop  Singapore  (not set)   \n",
       "5           342         google         desktop  Singapore  (not set)   \n",
       "6           342         google         desktop  Singapore  (not set)   \n",
       "7           342         google         desktop  Singapore  (not set)   \n",
       "8           342         google         desktop  Singapore  (not set)   \n",
       "9           342         google         desktop  Singapore  (not set)   \n",
       "\n",
       "  operating_system traffic_campaign  visits  hits data_split  \n",
       "0        Macintosh        (not set)       1    14      TRAIN  \n",
       "1        Macintosh        (not set)       1    14      TRAIN  \n",
       "2        Macintosh        (not set)       1    14      TRAIN  \n",
       "3        Macintosh        (not set)       1    14      TRAIN  \n",
       "4        Macintosh        (not set)       1    14      TRAIN  \n",
       "5        Macintosh        (not set)       1    14      TRAIN  \n",
       "6        Macintosh        (not set)       1    14      TRAIN  \n",
       "7        Macintosh        (not set)       1    14      TRAIN  \n",
       "8        Macintosh        (not set)       1    14      TRAIN  \n",
       "9        Macintosh        (not set)       1    14      TRAIN  "
      ]
     },
     "execution_count": 126,
     "metadata": {},
     "output_type": "execute_result"
    }
   ],
   "source": [
    "%%bigquery\n",
    "CREATE OR REPLACE VIEW p_bq.ml_features2 AS (\n",
    "  SELECT\n",
    "    unique_id,\n",
    "    action_type,\n",
    "    visitNumber,\n",
    "    IFNULL(pageviews_per_session, 0) AS pageviews,\n",
    "    IFNULL(time_on_site, 0) AS time_on_site,\n",
    "    IFNULL(traffic_source, '') AS traffic_source,\n",
    "    IFNULL(device_category, '') AS device_category,\n",
    "    IFNULL(country, '') AS country,\n",
    "    IFNULL(city, '') AS city,\n",
    "    IFNULL(operating_system, '') AS operating_system,\n",
    "    IFNULL(traffic_campaign, '') AS traffic_campaign,\n",
    "    IFNULL(visits, 0) AS visits,\n",
    "    IFNULL(hits,0) As hits,\n",
    "    -- BQML Hyperparameter tuning requires STRING 3 partition data_split column.\n",
    "    -- 80% 'TRAIN' | 10%'EVAL' | 10% 'TEST'\n",
    "    CASE\n",
    "      WHEN ABS(MOD(FARM_FINGERPRINT(unique_id), 10)) <= 7 THEN 'TRAIN'\n",
    "      WHEN ABS(MOD(FARM_FINGERPRINT(unique_id), 10)) = 8 THEN 'EVAL'\n",
    "      WHEN ABS(MOD(FARM_FINGERPRINT(unique_id), 10)) = 9 THEN 'TEST'\n",
    "      ELSE '' \n",
    "    END AS data_split\n",
    "  FROM\n",
    "    `york-bb-cohort.p_bq.data`\n",
    ");\n",
    "\n",
    "SELECT * FROM p_bq.ml_features2\n",
    "LIMIT 10;\n"
   ]
  },
  {
   "cell_type": "code",
   "execution_count": 7,
   "id": "4fc034ff-6c80-48b8-9725-bee56d94f885",
   "metadata": {
    "tags": []
   },
   "outputs": [],
   "source": [
    "MODEL_NAME=\"preet_model\""
   ]
  },
  {
   "cell_type": "code",
   "execution_count": 128,
   "id": "3892c03c-71ad-44e7-8137-d99b4d268265",
   "metadata": {
    "tags": []
   },
   "outputs": [
    {
     "data": {
      "application/vnd.jupyter.widget-view+json": {
       "model_id": "a3d6507153314371824e752bcf0e0f5d",
       "version_major": 2,
       "version_minor": 0
      },
      "text/plain": [
       "Query is running:   0%|          |"
      ]
     },
     "metadata": {},
     "output_type": "display_data"
    },
    {
     "data": {
      "text/html": [
       "<div>\n",
       "<style scoped>\n",
       "    .dataframe tbody tr th:only-of-type {\n",
       "        vertical-align: middle;\n",
       "    }\n",
       "\n",
       "    .dataframe tbody tr th {\n",
       "        vertical-align: top;\n",
       "    }\n",
       "\n",
       "    .dataframe thead th {\n",
       "        text-align: right;\n",
       "    }\n",
       "</style>\n",
       "<table border=\"1\" class=\"dataframe\">\n",
       "  <thead>\n",
       "    <tr style=\"text-align: right;\">\n",
       "      <th></th>\n",
       "    </tr>\n",
       "  </thead>\n",
       "  <tbody>\n",
       "  </tbody>\n",
       "</table>\n",
       "</div>"
      ],
      "text/plain": [
       "Empty DataFrame\n",
       "Columns: []\n",
       "Index: []"
      ]
     },
     "execution_count": 128,
     "metadata": {},
     "output_type": "execute_result"
    }
   ],
   "source": [
    "%%bigquery\n",
    "\n",
    "CREATE OR REPLACE MODEL p_bq.preet_model\n",
    "\n",
    "OPTIONS(\n",
    "  MODEL_TYPE=\"BOOSTED_TREE_CLASSIFIER\",\n",
    "  # Declare label column.\n",
    "  INPUT_LABEL_COLS=[\"action_type\"],\n",
    "  # Specify custom data splitting using the `data_split` column.\n",
    "  DATA_SPLIT_METHOD=\"CUSTOM\",\n",
    "  DATA_SPLIT_COL=\"data_split\",\n",
    "  # Enable Vertex Explainable AI aggregated feature attributions.\n",
    "  ENABLE_GLOBAL_EXPLAIN=True,\n",
    "  # Hyperparameter tuning arguments.\n",
    "  num_trials=8,\n",
    "  max_parallel_trials=4,\n",
    "  HPARAM_TUNING_OBJECTIVES=[\"roc_auc\"],\n",
    "  EARLY_STOP=True,\n",
    "  # Hyperpameter search space.\n",
    "  LEARN_RATE=HPARAM_RANGE(0.01, 0.1),\n",
    "  MAX_TREE_DEPTH=HPARAM_CANDIDATES([5,6]),\n",
    "  AUTO_CLASS_WEIGHTS = True\n",
    ") AS\n",
    "\n",
    "SELECT\n",
    "  * EXCEPT(unique_id)\n",
    "FROM\n",
    " p_bq.ml_features2\n"
   ]
  },
  {
   "cell_type": "code",
   "execution_count": 129,
   "id": "4a46d273-be69-44e1-a35a-31d7a7f93b4c",
   "metadata": {
    "tags": []
   },
   "outputs": [
    {
     "data": {
      "application/vnd.jupyter.widget-view+json": {
       "model_id": "27938ceeab19485eae777d3ba2f64e07",
       "version_major": 2,
       "version_minor": 0
      },
      "text/plain": [
       "Query is running:   0%|          |"
      ]
     },
     "metadata": {},
     "output_type": "display_data"
    },
    {
     "data": {
      "application/vnd.jupyter.widget-view+json": {
       "model_id": "3a4a228b9c0747ababa7239c02811114",
       "version_major": 2,
       "version_minor": 0
      },
      "text/plain": [
       "Downloading:   0%|          |"
      ]
     },
     "metadata": {},
     "output_type": "display_data"
    },
    {
     "data": {
      "text/html": [
       "<div>\n",
       "<style scoped>\n",
       "    .dataframe tbody tr th:only-of-type {\n",
       "        vertical-align: middle;\n",
       "    }\n",
       "\n",
       "    .dataframe tbody tr th {\n",
       "        vertical-align: top;\n",
       "    }\n",
       "\n",
       "    .dataframe thead th {\n",
       "        text-align: right;\n",
       "    }\n",
       "</style>\n",
       "<table border=\"1\" class=\"dataframe\">\n",
       "  <thead>\n",
       "    <tr style=\"text-align: right;\">\n",
       "      <th></th>\n",
       "      <th>data_split</th>\n",
       "      <th>n_examples</th>\n",
       "    </tr>\n",
       "  </thead>\n",
       "  <tbody>\n",
       "    <tr>\n",
       "      <th>0</th>\n",
       "      <td>TEST</td>\n",
       "      <td>116444</td>\n",
       "    </tr>\n",
       "    <tr>\n",
       "      <th>1</th>\n",
       "      <td>TRAIN</td>\n",
       "      <td>925161</td>\n",
       "    </tr>\n",
       "    <tr>\n",
       "      <th>2</th>\n",
       "      <td>EVAL</td>\n",
       "      <td>115777</td>\n",
       "    </tr>\n",
       "  </tbody>\n",
       "</table>\n",
       "</div>"
      ],
      "text/plain": [
       "  data_split  n_examples\n",
       "0       TEST      116444\n",
       "1      TRAIN      925161\n",
       "2       EVAL      115777"
      ]
     },
     "execution_count": 129,
     "metadata": {},
     "output_type": "execute_result"
    }
   ],
   "source": [
    "%%bigquery --project $PROJECT_ID\n",
    "\n",
    "SELECT\n",
    "  data_split,\n",
    "  COUNT(*) AS n_examples\n",
    "FROM p_bq.ml_features2\n",
    "GROUP BY data_split"
   ]
  },
  {
   "cell_type": "code",
   "execution_count": 130,
   "id": "12425f1f-d6aa-4c0e-9357-905e6c297b57",
   "metadata": {
    "tags": []
   },
   "outputs": [
    {
     "data": {
      "application/vnd.jupyter.widget-view+json": {
       "model_id": "38cdb38c6d30443bab78161c8f18959a",
       "version_major": 2,
       "version_minor": 0
      },
      "text/plain": [
       "Query is running:   0%|          |"
      ]
     },
     "metadata": {},
     "output_type": "display_data"
    },
    {
     "data": {
      "application/vnd.jupyter.widget-view+json": {
       "model_id": "98602915d6c54d0296132d5fb845630f",
       "version_major": 2,
       "version_minor": 0
      },
      "text/plain": [
       "Downloading:   0%|          |"
      ]
     },
     "metadata": {},
     "output_type": "display_data"
    },
    {
     "data": {
      "text/html": [
       "<div>\n",
       "<style scoped>\n",
       "    .dataframe tbody tr th:only-of-type {\n",
       "        vertical-align: middle;\n",
       "    }\n",
       "\n",
       "    .dataframe tbody tr th {\n",
       "        vertical-align: top;\n",
       "    }\n",
       "\n",
       "    .dataframe thead th {\n",
       "        text-align: right;\n",
       "    }\n",
       "</style>\n",
       "<table border=\"1\" class=\"dataframe\">\n",
       "  <thead>\n",
       "    <tr style=\"text-align: right;\">\n",
       "      <th></th>\n",
       "      <th>trial_id</th>\n",
       "      <th>precision</th>\n",
       "      <th>recall</th>\n",
       "      <th>accuracy</th>\n",
       "      <th>f1_score</th>\n",
       "      <th>log_loss</th>\n",
       "      <th>roc_auc</th>\n",
       "    </tr>\n",
       "  </thead>\n",
       "  <tbody>\n",
       "    <tr>\n",
       "      <th>0</th>\n",
       "      <td>1</td>\n",
       "      <td>0.017955</td>\n",
       "      <td>0.895973</td>\n",
       "      <td>0.62296</td>\n",
       "      <td>0.035204</td>\n",
       "      <td>0.53556</td>\n",
       "      <td>0.827895</td>\n",
       "    </tr>\n",
       "  </tbody>\n",
       "</table>\n",
       "</div>"
      ],
      "text/plain": [
       "   trial_id  precision    recall  accuracy  f1_score  log_loss   roc_auc\n",
       "0         1   0.017955  0.895973   0.62296  0.035204   0.53556  0.827895"
      ]
     },
     "execution_count": 130,
     "metadata": {},
     "output_type": "execute_result"
    }
   ],
   "source": [
    "\n",
    "%%bigquery\n",
    "SELECT\n",
    "  *\n",
    "FROM\n",
    "  ML.EVALUATE(MODEL p_bq.preet_model)\n",
    "WHERE trial_id=1;"
   ]
  },
  {
   "cell_type": "code",
   "execution_count": 131,
   "id": "a8e34241-042d-4bab-836d-0ae4e021aab1",
   "metadata": {
    "tags": []
   },
   "outputs": [
    {
     "data": {
      "application/vnd.jupyter.widget-view+json": {
       "model_id": "bec8b37bc8a34f28a0817b1e1535e4eb",
       "version_major": 2,
       "version_minor": 0
      },
      "text/plain": [
       "Query is running:   0%|          |"
      ]
     },
     "metadata": {},
     "output_type": "display_data"
    },
    {
     "data": {
      "application/vnd.jupyter.widget-view+json": {
       "model_id": "e0f3e4466c4d4d45a064bbf2d41b62b0",
       "version_major": 2,
       "version_minor": 0
      },
      "text/plain": [
       "Downloading:   0%|          |"
      ]
     },
     "metadata": {},
     "output_type": "display_data"
    }
   ],
   "source": [
    "%%bigquery df_ml_features2 --project $PROJECT_ID\n",
    "\n",
    "SELECT \n",
    "    * \n",
    "FROM \n",
    "   p_bq.ml_features2"
   ]
  },
  {
   "cell_type": "code",
   "execution_count": 133,
   "id": "5041620f-6642-4213-8b9a-19710927e448",
   "metadata": {
    "tags": []
   },
   "outputs": [
    {
     "data": {
      "text/plain": [
       "(1157382, 14)"
      ]
     },
     "execution_count": 133,
     "metadata": {},
     "output_type": "execute_result"
    }
   ],
   "source": [
    "df_ml_features2.shape"
   ]
  },
  {
   "cell_type": "code",
   "execution_count": 19,
   "id": "41e05fc1-fca4-4ef3-a773-898b3eaf92c1",
   "metadata": {
    "tags": []
   },
   "outputs": [
    {
     "data": {
      "application/vnd.jupyter.widget-view+json": {
       "model_id": "f88e233fd975479aa74e87c44b1cd863",
       "version_major": 2,
       "version_minor": 0
      },
      "text/plain": [
       "Query is running:   0%|          |"
      ]
     },
     "metadata": {},
     "output_type": "display_data"
    },
    {
     "data": {
      "application/vnd.jupyter.widget-view+json": {
       "model_id": "9fe0d8b91dbb4f4f9f9c31cc725afec9",
       "version_major": 2,
       "version_minor": 0
      },
      "text/plain": [
       "Downloading:   0%|          |"
      ]
     },
     "metadata": {},
     "output_type": "display_data"
    },
    {
     "data": {
      "text/html": [
       "<div>\n",
       "<style scoped>\n",
       "    .dataframe tbody tr th:only-of-type {\n",
       "        vertical-align: middle;\n",
       "    }\n",
       "\n",
       "    .dataframe tbody tr th {\n",
       "        vertical-align: top;\n",
       "    }\n",
       "\n",
       "    .dataframe thead th {\n",
       "        text-align: right;\n",
       "    }\n",
       "</style>\n",
       "<table border=\"1\" class=\"dataframe\">\n",
       "  <thead>\n",
       "    <tr style=\"text-align: right;\">\n",
       "      <th></th>\n",
       "      <th>expected_label</th>\n",
       "      <th>predicted_0</th>\n",
       "      <th>predicted_1</th>\n",
       "    </tr>\n",
       "  </thead>\n",
       "  <tbody>\n",
       "    <tr>\n",
       "      <th>0</th>\n",
       "      <td>0</td>\n",
       "      <td>71739</td>\n",
       "      <td>43811</td>\n",
       "    </tr>\n",
       "    <tr>\n",
       "      <th>1</th>\n",
       "      <td>1</td>\n",
       "      <td>93</td>\n",
       "      <td>801</td>\n",
       "    </tr>\n",
       "  </tbody>\n",
       "</table>\n",
       "</div>"
      ],
      "text/plain": [
       "  expected_label  predicted_0  predicted_1\n",
       "0              0        71739        43811\n",
       "1              1           93          801"
      ]
     },
     "execution_count": 19,
     "metadata": {},
     "output_type": "execute_result"
    }
   ],
   "source": [
    "%%bigquery\n",
    "SELECT\n",
    "  expected_label,\n",
    "  _0 AS predicted_0,\n",
    "  _1 AS predicted_1\n",
    "FROM\n",
    "  ML.CONFUSION_MATRIX(MODEL  p_bq.preet_model)\n",
    "WHERE trial_id=1;"
   ]
  },
  {
   "cell_type": "code",
   "execution_count": 20,
   "id": "4d7c2ebf-65fd-4a00-acdc-059b896dd347",
   "metadata": {
    "tags": []
   },
   "outputs": [
    {
     "data": {
      "application/vnd.jupyter.widget-view+json": {
       "model_id": "bf52262d5f3c49a6971630c1856205fe",
       "version_major": 2,
       "version_minor": 0
      },
      "text/plain": [
       "Query is running:   0%|          |"
      ]
     },
     "metadata": {},
     "output_type": "display_data"
    },
    {
     "data": {
      "application/vnd.jupyter.widget-view+json": {
       "model_id": "351882bce9504709b1b2d9dad438a2ce",
       "version_major": 2,
       "version_minor": 0
      },
      "text/plain": [
       "Downloading:   0%|          |"
      ]
     },
     "metadata": {},
     "output_type": "display_data"
    }
   ],
   "source": [
    "%%bigquery df_roc \n",
    "\n",
    "SELECT * FROM ML.ROC_CURVE(MODEL p_bq.preet_model)"
   ]
  },
  {
   "cell_type": "code",
   "execution_count": 21,
   "id": "9014ad7e-4ea5-4f55-ba4c-761df73d5beb",
   "metadata": {
    "tags": []
   },
   "outputs": [
    {
     "data": {
      "text/plain": [
       "<Axes: title={'center': 'AUC-ROC curve'}, xlabel='false_positive_rate'>"
      ]
     },
     "execution_count": 21,
     "metadata": {},
     "output_type": "execute_result"
    },
    {
     "data": {
      "image/png": "[encoded data removed]",
      "text/plain": [
       "<Figure size 640x480 with 1 Axes>"
      ]
     },
     "metadata": {},
     "output_type": "display_data"
    }
   ],
   "source": [
    "df_roc.plot(x=\"false_positive_rate\", y=\"recall\", title=\"AUC-ROC curve\")"
   ]
  },
  {
   "cell_type": "code",
   "execution_count": 22,
   "id": "367faf68-5978-468e-9dc0-0916b7ec9b7f",
   "metadata": {
    "tags": []
   },
   "outputs": [
    {
     "data": {
      "application/vnd.jupyter.widget-view+json": {
       "model_id": "6088e580565b4e1aa873ed9e838031e1",
       "version_major": 2,
       "version_minor": 0
      },
      "text/plain": [
       "Query is running:   0%|          |"
      ]
     },
     "metadata": {},
     "output_type": "display_data"
    },
    {
     "data": {
      "application/vnd.jupyter.widget-view+json": {
       "model_id": "018d0a6aa21a449f86d93e2a2b730866",
       "version_major": 2,
       "version_minor": 0
      },
      "text/plain": [
       "Downloading:   0%|          |"
      ]
     },
     "metadata": {},
     "output_type": "display_data"
    }
   ],
   "source": [
    "%%bigquery df_ROC_AUC --project $PROJECT_ID\n",
    "\n",
    "SELECT\n",
    "    recall,\n",
    "    true_positives / (true_positives + false_positives) AS precision\n",
    "FROM\n",
    "  ML.ROC_CURVE(MODEL p_bq.preet_model,\n",
    "    TABLE `p_bq.ml_features2`)"
   ]
  },
  {
   "cell_type": "code",
   "execution_count": 23,
   "id": "d94658a7-3266-4c5e-b817-59c75252f267",
   "metadata": {
    "tags": []
   },
   "outputs": [
    {
     "data": {
      "application/vnd.jupyter.widget-view+json": {
       "model_id": "08e5ca2ded1f43afbf35cf54c8083e1d",
       "version_major": 2,
       "version_minor": 0
      },
      "text/plain": [
       "Query is running:   0%|          |"
      ]
     },
     "metadata": {},
     "output_type": "display_data"
    },
    {
     "data": {
      "application/vnd.jupyter.widget-view+json": {
       "model_id": "d06e59d69f7b4f8e8141c6b267e6a1f6",
       "version_major": 2,
       "version_minor": 0
      },
      "text/plain": [
       "Downloading:   0%|          |"
      ]
     },
     "metadata": {},
     "output_type": "display_data"
    },
    {
     "data": {
      "text/html": [
       "<div>\n",
       "<style scoped>\n",
       "    .dataframe tbody tr th:only-of-type {\n",
       "        vertical-align: middle;\n",
       "    }\n",
       "\n",
       "    .dataframe tbody tr th {\n",
       "        vertical-align: top;\n",
       "    }\n",
       "\n",
       "    .dataframe thead th {\n",
       "        text-align: right;\n",
       "    }\n",
       "</style>\n",
       "<table border=\"1\" class=\"dataframe\">\n",
       "  <thead>\n",
       "    <tr style=\"text-align: right;\">\n",
       "      <th></th>\n",
       "      <th>trial_id</th>\n",
       "      <th>feature</th>\n",
       "      <th>attribution</th>\n",
       "    </tr>\n",
       "  </thead>\n",
       "  <tbody>\n",
       "    <tr>\n",
       "      <th>0</th>\n",
       "      <td>1</td>\n",
       "      <td>hits</td>\n",
       "      <td>0.523613</td>\n",
       "    </tr>\n",
       "    <tr>\n",
       "      <th>1</th>\n",
       "      <td>1</td>\n",
       "      <td>pageviews</td>\n",
       "      <td>0.140162</td>\n",
       "    </tr>\n",
       "    <tr>\n",
       "      <th>2</th>\n",
       "      <td>1</td>\n",
       "      <td>visitNumber</td>\n",
       "      <td>0.037659</td>\n",
       "    </tr>\n",
       "    <tr>\n",
       "      <th>3</th>\n",
       "      <td>1</td>\n",
       "      <td>time_on_site</td>\n",
       "      <td>0.017134</td>\n",
       "    </tr>\n",
       "    <tr>\n",
       "      <th>4</th>\n",
       "      <td>1</td>\n",
       "      <td>traffic_source</td>\n",
       "      <td>0.012879</td>\n",
       "    </tr>\n",
       "    <tr>\n",
       "      <th>5</th>\n",
       "      <td>1</td>\n",
       "      <td>country</td>\n",
       "      <td>0.012481</td>\n",
       "    </tr>\n",
       "    <tr>\n",
       "      <th>6</th>\n",
       "      <td>1</td>\n",
       "      <td>operating_system</td>\n",
       "      <td>0.011711</td>\n",
       "    </tr>\n",
       "    <tr>\n",
       "      <th>7</th>\n",
       "      <td>1</td>\n",
       "      <td>city</td>\n",
       "      <td>0.003736</td>\n",
       "    </tr>\n",
       "    <tr>\n",
       "      <th>8</th>\n",
       "      <td>1</td>\n",
       "      <td>device_category</td>\n",
       "      <td>0.001580</td>\n",
       "    </tr>\n",
       "    <tr>\n",
       "      <th>9</th>\n",
       "      <td>1</td>\n",
       "      <td>traffic_campaign</td>\n",
       "      <td>0.000192</td>\n",
       "    </tr>\n",
       "    <tr>\n",
       "      <th>10</th>\n",
       "      <td>1</td>\n",
       "      <td>visits</td>\n",
       "      <td>0.000000</td>\n",
       "    </tr>\n",
       "  </tbody>\n",
       "</table>\n",
       "</div>"
      ],
      "text/plain": [
       "    trial_id           feature  attribution\n",
       "0          1              hits     0.523613\n",
       "1          1         pageviews     0.140162\n",
       "2          1       visitNumber     0.037659\n",
       "3          1      time_on_site     0.017134\n",
       "4          1    traffic_source     0.012879\n",
       "5          1           country     0.012481\n",
       "6          1  operating_system     0.011711\n",
       "7          1              city     0.003736\n",
       "8          1   device_category     0.001580\n",
       "9          1  traffic_campaign     0.000192\n",
       "10         1            visits     0.000000"
      ]
     },
     "execution_count": 23,
     "metadata": {},
     "output_type": "execute_result"
    }
   ],
   "source": [
    "%%bigquery --project $PROJECT_ID\n",
    "\n",
    "SELECT\n",
    "  *\n",
    "FROM\n",
    "  ML.GLOBAL_EXPLAIN(MODEL p_bq.preet_model)\n",
    "ORDER BY\n",
    "  attribution DESC;"
   ]
  },
  {
   "cell_type": "code",
   "execution_count": 24,
   "id": "07aa001b-15df-440b-9087-845dfd4aeb98",
   "metadata": {
    "tags": []
   },
   "outputs": [
    {
     "data": {
      "application/vnd.jupyter.widget-view+json": {
       "model_id": "39d1e67832d644d58c075ab51fac7b5d",
       "version_major": 2,
       "version_minor": 0
      },
      "text/plain": [
       "Query is running:   0%|          |"
      ]
     },
     "metadata": {},
     "output_type": "display_data"
    },
    {
     "data": {
      "application/vnd.jupyter.widget-view+json": {
       "model_id": "e22d01dd01444ab594fb1d6e558d4a0b",
       "version_major": 2,
       "version_minor": 0
      },
      "text/plain": [
       "Downloading:   0%|          |"
      ]
     },
     "metadata": {},
     "output_type": "display_data"
    },
    {
     "data": {
      "text/html": [
       "<div>\n",
       "<style scoped>\n",
       "    .dataframe tbody tr th:only-of-type {\n",
       "        vertical-align: middle;\n",
       "    }\n",
       "\n",
       "    .dataframe tbody tr th {\n",
       "        vertical-align: top;\n",
       "    }\n",
       "\n",
       "    .dataframe thead th {\n",
       "        text-align: right;\n",
       "    }\n",
       "</style>\n",
       "<table border=\"1\" class=\"dataframe\">\n",
       "  <thead>\n",
       "    <tr style=\"text-align: right;\">\n",
       "      <th></th>\n",
       "      <th>trial_id</th>\n",
       "      <th>predicted_action_type</th>\n",
       "      <th>predicted_action_type_probs</th>\n",
       "      <th>unique_id</th>\n",
       "      <th>action_type</th>\n",
       "      <th>visitNumber</th>\n",
       "      <th>pageviews</th>\n",
       "      <th>time_on_site</th>\n",
       "      <th>traffic_source</th>\n",
       "      <th>device_category</th>\n",
       "      <th>country</th>\n",
       "      <th>city</th>\n",
       "      <th>operating_system</th>\n",
       "      <th>traffic_campaign</th>\n",
       "      <th>visits</th>\n",
       "      <th>hits</th>\n",
       "      <th>data_split</th>\n",
       "    </tr>\n",
       "  </thead>\n",
       "  <tbody>\n",
       "    <tr>\n",
       "      <th>0</th>\n",
       "      <td>1</td>\n",
       "      <td>1</td>\n",
       "      <td>[{'label': 1, 'prob': 0.6459565162658691}, {'l...</td>\n",
       "      <td>1086588710502217257_14899330223</td>\n",
       "      <td>0</td>\n",
       "      <td>1</td>\n",
       "      <td>3</td>\n",
       "      <td>123</td>\n",
       "      <td>google</td>\n",
       "      <td>tablet</td>\n",
       "      <td>United States</td>\n",
       "      <td>not available in demo dataset</td>\n",
       "      <td>Android</td>\n",
       "      <td>(not set)</td>\n",
       "      <td>1</td>\n",
       "      <td>4</td>\n",
       "      <td>TEST</td>\n",
       "    </tr>\n",
       "    <tr>\n",
       "      <th>1</th>\n",
       "      <td>1</td>\n",
       "      <td>0</td>\n",
       "      <td>[{'label': 1, 'prob': 0.13353997468948364}, {'...</td>\n",
       "      <td>9101674173985279230_14899567092</td>\n",
       "      <td>0</td>\n",
       "      <td>1</td>\n",
       "      <td>4</td>\n",
       "      <td>214</td>\n",
       "      <td>(direct)</td>\n",
       "      <td>desktop</td>\n",
       "      <td>United States</td>\n",
       "      <td>New York</td>\n",
       "      <td>Macintosh</td>\n",
       "      <td>(not set)</td>\n",
       "      <td>1</td>\n",
       "      <td>4</td>\n",
       "      <td>TEST</td>\n",
       "    </tr>\n",
       "    <tr>\n",
       "      <th>2</th>\n",
       "      <td>1</td>\n",
       "      <td>0</td>\n",
       "      <td>[{'label': 1, 'prob': 0.13353997468948364}, {'...</td>\n",
       "      <td>9101674173985279230_14899567092</td>\n",
       "      <td>0</td>\n",
       "      <td>1</td>\n",
       "      <td>4</td>\n",
       "      <td>214</td>\n",
       "      <td>(direct)</td>\n",
       "      <td>desktop</td>\n",
       "      <td>United States</td>\n",
       "      <td>New York</td>\n",
       "      <td>Macintosh</td>\n",
       "      <td>(not set)</td>\n",
       "      <td>1</td>\n",
       "      <td>4</td>\n",
       "      <td>TEST</td>\n",
       "    </tr>\n",
       "    <tr>\n",
       "      <th>3</th>\n",
       "      <td>1</td>\n",
       "      <td>0</td>\n",
       "      <td>[{'label': 1, 'prob': 0.13353997468948364}, {'...</td>\n",
       "      <td>9101674173985279230_14899567092</td>\n",
       "      <td>0</td>\n",
       "      <td>1</td>\n",
       "      <td>4</td>\n",
       "      <td>214</td>\n",
       "      <td>(direct)</td>\n",
       "      <td>desktop</td>\n",
       "      <td>United States</td>\n",
       "      <td>New York</td>\n",
       "      <td>Macintosh</td>\n",
       "      <td>(not set)</td>\n",
       "      <td>1</td>\n",
       "      <td>4</td>\n",
       "      <td>TEST</td>\n",
       "    </tr>\n",
       "    <tr>\n",
       "      <th>4</th>\n",
       "      <td>1</td>\n",
       "      <td>0</td>\n",
       "      <td>[{'label': 1, 'prob': 0.13353997468948364}, {'...</td>\n",
       "      <td>5026906175471538414_14899369942</td>\n",
       "      <td>0</td>\n",
       "      <td>1</td>\n",
       "      <td>4</td>\n",
       "      <td>69</td>\n",
       "      <td>google</td>\n",
       "      <td>desktop</td>\n",
       "      <td>Bulgaria</td>\n",
       "      <td>not available in demo dataset</td>\n",
       "      <td>Windows</td>\n",
       "      <td>(not set)</td>\n",
       "      <td>1</td>\n",
       "      <td>4</td>\n",
       "      <td>TEST</td>\n",
       "    </tr>\n",
       "    <tr>\n",
       "      <th>...</th>\n",
       "      <td>...</td>\n",
       "      <td>...</td>\n",
       "      <td>...</td>\n",
       "      <td>...</td>\n",
       "      <td>...</td>\n",
       "      <td>...</td>\n",
       "      <td>...</td>\n",
       "      <td>...</td>\n",
       "      <td>...</td>\n",
       "      <td>...</td>\n",
       "      <td>...</td>\n",
       "      <td>...</td>\n",
       "      <td>...</td>\n",
       "      <td>...</td>\n",
       "      <td>...</td>\n",
       "      <td>...</td>\n",
       "      <td>...</td>\n",
       "    </tr>\n",
       "    <tr>\n",
       "      <th>116439</th>\n",
       "      <td>1</td>\n",
       "      <td>1</td>\n",
       "      <td>[{'label': 1, 'prob': 0.5355055332183838}, {'l...</td>\n",
       "      <td>6443070651859885456_148866073819</td>\n",
       "      <td>0</td>\n",
       "      <td>1</td>\n",
       "      <td>14</td>\n",
       "      <td>148</td>\n",
       "      <td>google</td>\n",
       "      <td>mobile</td>\n",
       "      <td>Canada</td>\n",
       "      <td>not available in demo dataset</td>\n",
       "      <td>iOS</td>\n",
       "      <td>AW - Accessories</td>\n",
       "      <td>1</td>\n",
       "      <td>19</td>\n",
       "      <td>TEST</td>\n",
       "    </tr>\n",
       "    <tr>\n",
       "      <th>116440</th>\n",
       "      <td>1</td>\n",
       "      <td>1</td>\n",
       "      <td>[{'label': 1, 'prob': 0.5355055332183838}, {'l...</td>\n",
       "      <td>6443070651859885456_148866073819</td>\n",
       "      <td>0</td>\n",
       "      <td>1</td>\n",
       "      <td>14</td>\n",
       "      <td>148</td>\n",
       "      <td>google</td>\n",
       "      <td>mobile</td>\n",
       "      <td>Canada</td>\n",
       "      <td>not available in demo dataset</td>\n",
       "      <td>iOS</td>\n",
       "      <td>AW - Accessories</td>\n",
       "      <td>1</td>\n",
       "      <td>19</td>\n",
       "      <td>TEST</td>\n",
       "    </tr>\n",
       "    <tr>\n",
       "      <th>116441</th>\n",
       "      <td>1</td>\n",
       "      <td>1</td>\n",
       "      <td>[{'label': 1, 'prob': 0.5355055332183838}, {'l...</td>\n",
       "      <td>6443070651859885456_148866073819</td>\n",
       "      <td>0</td>\n",
       "      <td>1</td>\n",
       "      <td>14</td>\n",
       "      <td>148</td>\n",
       "      <td>google</td>\n",
       "      <td>mobile</td>\n",
       "      <td>Canada</td>\n",
       "      <td>not available in demo dataset</td>\n",
       "      <td>iOS</td>\n",
       "      <td>AW - Accessories</td>\n",
       "      <td>1</td>\n",
       "      <td>19</td>\n",
       "      <td>TEST</td>\n",
       "    </tr>\n",
       "    <tr>\n",
       "      <th>116442</th>\n",
       "      <td>1</td>\n",
       "      <td>1</td>\n",
       "      <td>[{'label': 1, 'prob': 0.5355055332183838}, {'l...</td>\n",
       "      <td>6443070651859885456_148866073819</td>\n",
       "      <td>0</td>\n",
       "      <td>1</td>\n",
       "      <td>14</td>\n",
       "      <td>148</td>\n",
       "      <td>google</td>\n",
       "      <td>mobile</td>\n",
       "      <td>Canada</td>\n",
       "      <td>not available in demo dataset</td>\n",
       "      <td>iOS</td>\n",
       "      <td>AW - Accessories</td>\n",
       "      <td>1</td>\n",
       "      <td>19</td>\n",
       "      <td>TEST</td>\n",
       "    </tr>\n",
       "    <tr>\n",
       "      <th>116443</th>\n",
       "      <td>1</td>\n",
       "      <td>1</td>\n",
       "      <td>[{'label': 1, 'prob': 0.6123337745666504}, {'l...</td>\n",
       "      <td>1359729998443284643_14886327719</td>\n",
       "      <td>0</td>\n",
       "      <td>5</td>\n",
       "      <td>13</td>\n",
       "      <td>225</td>\n",
       "      <td>google</td>\n",
       "      <td>mobile</td>\n",
       "      <td>Japan</td>\n",
       "      <td>not available in demo dataset</td>\n",
       "      <td>iOS</td>\n",
       "      <td>(not set)</td>\n",
       "      <td>1</td>\n",
       "      <td>19</td>\n",
       "      <td>TEST</td>\n",
       "    </tr>\n",
       "  </tbody>\n",
       "</table>\n",
       "<p>116444 rows × 17 columns</p>\n",
       "</div>"
      ],
      "text/plain": [
       "        trial_id  predicted_action_type  \\\n",
       "0              1                      1   \n",
       "1              1                      0   \n",
       "2              1                      0   \n",
       "3              1                      0   \n",
       "4              1                      0   \n",
       "...          ...                    ...   \n",
       "116439         1                      1   \n",
       "116440         1                      1   \n",
       "116441         1                      1   \n",
       "116442         1                      1   \n",
       "116443         1                      1   \n",
       "\n",
       "                              predicted_action_type_probs  \\\n",
       "0       [{'label': 1, 'prob': 0.6459565162658691}, {'l...   \n",
       "1       [{'label': 1, 'prob': 0.13353997468948364}, {'...   \n",
       "2       [{'label': 1, 'prob': 0.13353997468948364}, {'...   \n",
       "3       [{'label': 1, 'prob': 0.13353997468948364}, {'...   \n",
       "4       [{'label': 1, 'prob': 0.13353997468948364}, {'...   \n",
       "...                                                   ...   \n",
       "116439  [{'label': 1, 'prob': 0.5355055332183838}, {'l...   \n",
       "116440  [{'label': 1, 'prob': 0.5355055332183838}, {'l...   \n",
       "116441  [{'label': 1, 'prob': 0.5355055332183838}, {'l...   \n",
       "116442  [{'label': 1, 'prob': 0.5355055332183838}, {'l...   \n",
       "116443  [{'label': 1, 'prob': 0.6123337745666504}, {'l...   \n",
       "\n",
       "                               unique_id  action_type  visitNumber  pageviews  \\\n",
       "0        1086588710502217257_14899330223            0            1          3   \n",
       "1        9101674173985279230_14899567092            0            1          4   \n",
       "2        9101674173985279230_14899567092            0            1          4   \n",
       "3        9101674173985279230_14899567092            0            1          4   \n",
       "4        5026906175471538414_14899369942            0            1          4   \n",
       "...                                  ...          ...          ...        ...   \n",
       "116439  6443070651859885456_148866073819            0            1         14   \n",
       "116440  6443070651859885456_148866073819            0            1         14   \n",
       "116441  6443070651859885456_148866073819            0            1         14   \n",
       "116442  6443070651859885456_148866073819            0            1         14   \n",
       "116443   1359729998443284643_14886327719            0            5         13   \n",
       "\n",
       "        time_on_site traffic_source device_category        country  \\\n",
       "0                123         google          tablet  United States   \n",
       "1                214       (direct)         desktop  United States   \n",
       "2                214       (direct)         desktop  United States   \n",
       "3                214       (direct)         desktop  United States   \n",
       "4                 69         google         desktop       Bulgaria   \n",
       "...              ...            ...             ...            ...   \n",
       "116439           148         google          mobile         Canada   \n",
       "116440           148         google          mobile         Canada   \n",
       "116441           148         google          mobile         Canada   \n",
       "116442           148         google          mobile         Canada   \n",
       "116443           225         google          mobile          Japan   \n",
       "\n",
       "                                 city operating_system  traffic_campaign  \\\n",
       "0       not available in demo dataset          Android         (not set)   \n",
       "1                            New York        Macintosh         (not set)   \n",
       "2                            New York        Macintosh         (not set)   \n",
       "3                            New York        Macintosh         (not set)   \n",
       "4       not available in demo dataset          Windows         (not set)   \n",
       "...                               ...              ...               ...   \n",
       "116439  not available in demo dataset              iOS  AW - Accessories   \n",
       "116440  not available in demo dataset              iOS  AW - Accessories   \n",
       "116441  not available in demo dataset              iOS  AW - Accessories   \n",
       "116442  not available in demo dataset              iOS  AW - Accessories   \n",
       "116443  not available in demo dataset              iOS         (not set)   \n",
       "\n",
       "        visits  hits data_split  \n",
       "0            1     4       TEST  \n",
       "1            1     4       TEST  \n",
       "2            1     4       TEST  \n",
       "3            1     4       TEST  \n",
       "4            1     4       TEST  \n",
       "...        ...   ...        ...  \n",
       "116439       1    19       TEST  \n",
       "116440       1    19       TEST  \n",
       "116441       1    19       TEST  \n",
       "116442       1    19       TEST  \n",
       "116443       1    19       TEST  \n",
       "\n",
       "[116444 rows x 17 columns]"
      ]
     },
     "execution_count": 24,
     "metadata": {},
     "output_type": "execute_result"
    }
   ],
   "source": [
    "%%bigquery --project $PROJECT_ID\n",
    "\n",
    "SELECT\n",
    "  *\n",
    "FROM\n",
    "  ML.PREDICT(MODEL p_bq.preet_model,\n",
    "  (SELECT * FROM p_bq.ml_features2 WHERE data_split = \"TEST\"))"
   ]
  },
  {
   "cell_type": "code",
   "execution_count": 25,
   "id": "640a4230-4a45-4b32-be03-84b591d845b9",
   "metadata": {
    "tags": []
   },
   "outputs": [
    {
     "data": {
      "application/vnd.jupyter.widget-view+json": {
       "model_id": "2e7eba09738b40c38f432c999639e222",
       "version_major": 2,
       "version_minor": 0
      },
      "text/plain": [
       "Query is running:   0%|          |"
      ]
     },
     "metadata": {},
     "output_type": "display_data"
    },
    {
     "data": {
      "text/html": [
       "<div>\n",
       "<style scoped>\n",
       "    .dataframe tbody tr th:only-of-type {\n",
       "        vertical-align: middle;\n",
       "    }\n",
       "\n",
       "    .dataframe tbody tr th {\n",
       "        vertical-align: top;\n",
       "    }\n",
       "\n",
       "    .dataframe thead th {\n",
       "        text-align: right;\n",
       "    }\n",
       "</style>\n",
       "<table border=\"1\" class=\"dataframe\">\n",
       "  <thead>\n",
       "    <tr style=\"text-align: right;\">\n",
       "      <th></th>\n",
       "    </tr>\n",
       "  </thead>\n",
       "  <tbody>\n",
       "  </tbody>\n",
       "</table>\n",
       "</div>"
      ],
      "text/plain": [
       "Empty DataFrame\n",
       "Columns: []\n",
       "Index: []"
      ]
     },
     "execution_count": 25,
     "metadata": {},
     "output_type": "execute_result"
    }
   ],
   "source": [
    "%%bigquery \n",
    "\n",
    "CREATE OR REPLACE TABLE p_bq.action_type_predictions AS (\n",
    "SELECT\n",
    "    unique_id,\n",
    "    action_type,\n",
    "    predicted_action_type,\n",
    "    predicted_action_type_probs AS predicted_action_type_prob\n",
    "FROM\n",
    "  ML.PREDICT(MODEL p_bq.preet_model,\n",
    "  (SELECT * FROM p_bq.ml_features2))\n",
    ");"
   ]
  },
  {
   "cell_type": "code",
   "execution_count": 9,
   "id": "5cf46907-07a2-4edd-83f6-fc015e1e8ec6",
   "metadata": {
    "tags": []
   },
   "outputs": [
    {
     "data": {
      "application/vnd.jupyter.widget-view+json": {
       "model_id": "3a68642708244434a0026aa9017028fc",
       "version_major": 2,
       "version_minor": 0
      },
      "text/plain": [
       "Query is running:   0%|          |"
      ]
     },
     "metadata": {},
     "output_type": "display_data"
    },
    {
     "data": {
      "application/vnd.jupyter.widget-view+json": {
       "model_id": "7058a559b1df4b8282200b4c907f7ddb",
       "version_major": 2,
       "version_minor": 0
      },
      "text/plain": [
       "Downloading:   0%|          |"
      ]
     },
     "metadata": {},
     "output_type": "display_data"
    }
   ],
   "source": [
    "%%bigquery prediction_final\n",
    "select * from p_bq.action_type_predictions"
   ]
  },
  {
   "cell_type": "code",
   "execution_count": 26,
   "id": "3bfc8384-d627-43c7-a01a-0d3e376f7227",
   "metadata": {
    "tags": []
   },
   "outputs": [
    {
     "name": "stdout",
     "output_type": "stream",
     "text": [
      "Actual action_type\n",
      "0    1148600\n",
      "1       8782\n",
      "Name: count, dtype: Int64\n",
      "Predicted predicted_action_type\n",
      "0    717636\n",
      "1    439746\n",
      "Name: count, dtype: Int64\n"
     ]
    }
   ],
   "source": [
    "print('Actual', prediction_final['action_type'].value_counts())\n",
    "print('Predicted',prediction_final['predicted_action_type'].value_counts())"
   ]
  },
  {
   "cell_type": "code",
   "execution_count": 27,
   "id": "72822af1-1a1e-4f42-977f-dbd1c995b8a4",
   "metadata": {
    "tags": []
   },
   "outputs": [
    {
     "name": "stdout",
     "output_type": "stream",
     "text": [
      "Recall: 0.904008198588021\n",
      "Precision: 0.0180536036712102\n",
      "Accuracy: 0.6261821939515216\n",
      "F1 Score: 0.035400242571255305\n",
      "ROC AUC Score: 0.7640330911101345\n"
     ]
    }
   ],
   "source": [
    "from sklearn.metrics import recall_score, precision_score, accuracy_score, f1_score, roc_auc_score\n",
    "\n",
    "actual = prediction_final['action_type']\n",
    "predicted = prediction_final['predicted_action_type']\n",
    "\n",
    "# Calculate recall\n",
    "recall = recall_score(actual, predicted)\n",
    "\n",
    "# Calculate precision\n",
    "precision = precision_score(actual, predicted)\n",
    "\n",
    "# Calculate accuracy\n",
    "accuracy = accuracy_score(actual, predicted)\n",
    "\n",
    "# Calculate F1 score\n",
    "f1 = f1_score(actual, predicted)\n",
    "\n",
    "# Calculate ROC AUC score\n",
    "roc_auc = roc_auc_score(actual, predicted)\n",
    "\n",
    "# Print the metrics\n",
    "print('Recall:', recall)\n",
    "print('Precision:', precision)\n",
    "print('Accuracy:', accuracy)\n",
    "print('F1 Score:', f1)\n",
    "print('ROC AUC Score:', roc_auc)\n"
   ]
  },
  {
   "cell_type": "code",
   "execution_count": 28,
   "id": "cb62c8a1-c966-4bad-a8af-2454e734d8e5",
   "metadata": {
    "tags": []
   },
   "outputs": [],
   "source": [
    "BQ_MODEL = f\"{BQ_DATASET}.{MODEL_NAME}\"\n",
    "BQ_MODEL_EXPORT_DIR = f\"gs://{GCS_BUCKET}/{MODEL_NAME}\""
   ]
  },
  {
   "cell_type": "markdown",
   "id": "bd304680-064b-46f5-a414-9a0dc28f70fe",
   "metadata": {},
   "source": [
    "Exporting model to bucket"
   ]
  },
  {
   "cell_type": "code",
   "execution_count": 29,
   "id": "ec92d7f8-332c-43fd-b0bc-4e280ea4f1bf",
   "metadata": {
    "tags": []
   },
   "outputs": [
    {
     "name": "stdout",
     "output_type": "stream",
     "text": [
      "Waiting on bqjob_r5d6d404c845fcc46_0000018dc381ab6a_1 ... (6s) Current status: DONE   \n"
     ]
    }
   ],
   "source": [
    "!bq --location=$BQ_LOCATION extract \\\n",
    "--destination_format ML_XGBOOST_BOOSTER \\\n",
    "--model $BQ_MODEL \\\n",
    "$BQ_MODEL_EXPORT_DIR"
   ]
  },
  {
   "cell_type": "code",
   "execution_count": 30,
   "id": "d714aee2-58a4-4bfc-af03-0b714fe6b03e",
   "metadata": {
    "tags": []
   },
   "outputs": [],
   "source": [
    "IMAGE_URI='us-docker.pkg.dev/vertex-ai/prediction/xgboost-cpu.1-4:latest'"
   ]
  },
  {
   "cell_type": "code",
   "execution_count": 31,
   "id": "afdecbe4-3957-431f-a0d5-c68ddde57de0",
   "metadata": {
    "tags": []
   },
   "outputs": [
    {
     "name": "stdout",
     "output_type": "stream",
     "text": [
      "Creating Model\n",
      "Create Model backing LRO: projects/319407066227/locations/us-central1/models/9110428003426369536/operations/5127348107041832960\n",
      "Model created. Resource name: projects/319407066227/locations/us-central1/models/9110428003426369536@1\n",
      "To use this Model in another session:\n",
      "model = aiplatform.Model('projects/319407066227/locations/us-central1/models/9110428003426369536@1')\n"
     ]
    }
   ],
   "source": [
    "#Upload BQML model to Vertex AI from GC Storage\n",
    "model = vertexai.Model.upload(\n",
    "    display_name=MODEL_NAME,\n",
    "    artifact_uri=BQ_MODEL_EXPORT_DIR,\n",
    "    serving_container_image_uri=IMAGE_URI,\n",
    ")"
   ]
  },
  {
   "cell_type": "code",
   "execution_count": 32,
   "id": "998fe91b-9c63-4351-85c1-f7d4eb85597a",
   "metadata": {
    "tags": []
   },
   "outputs": [
    {
     "name": "stdout",
     "output_type": "stream",
     "text": [
      "Creating Endpoint\n",
      "Create Endpoint backing LRO: projects/319407066227/locations/us-central1/endpoints/8939462741400223744/operations/8336162944622526464\n",
      "Endpoint created. Resource name: projects/319407066227/locations/us-central1/endpoints/8939462741400223744\n",
      "To use this Endpoint in another session:\n",
      "endpoint = aiplatform.Endpoint('projects/319407066227/locations/us-central1/endpoints/8939462741400223744')\n",
      "Deploying model to Endpoint : projects/319407066227/locations/us-central1/endpoints/8939462741400223744\n",
      "Deploy Endpoint model backing LRO: projects/319407066227/locations/us-central1/endpoints/8939462741400223744/operations/6899514663491338240\n",
      "Endpoint model deployed. Resource name: projects/319407066227/locations/us-central1/endpoints/8939462741400223744\n"
     ]
    }
   ],
   "source": [
    "# Deploy model to endpoint\n",
    "\n",
    "endpoint = model.deploy(\n",
    "    traffic_split={\"0\": 100},\n",
    "    machine_type=\"e2-standard-2\",\n",
    ")"
   ]
  },
  {
   "cell_type": "code",
   "execution_count": 33,
   "id": "24a18796-3cc3-4d8a-865a-a527277cd3d8",
   "metadata": {
    "tags": []
   },
   "outputs": [
    {
     "data": {
      "application/vnd.jupyter.widget-view+json": {
       "model_id": "7f61c312e8b14edaa4be74d9d5bfc306",
       "version_major": 2,
       "version_minor": 0
      },
      "text/plain": [
       "Query is running:   0%|          |"
      ]
     },
     "metadata": {},
     "output_type": "display_data"
    },
    {
     "data": {
      "application/vnd.jupyter.widget-view+json": {
       "model_id": "e94b965f90b840b5bb80734d4deac4f9",
       "version_major": 2,
       "version_minor": 0
      },
      "text/plain": [
       "Downloading:   0%|          |"
      ]
     },
     "metadata": {},
     "output_type": "display_data"
    }
   ],
   "source": [
    "%%bigquery df_cat_features --project $PROJECT_ID\n",
    "\n",
    "SELECT * \n",
    "FROM p_bq.ml_features2"
   ]
  },
  {
   "cell_type": "code",
   "execution_count": 35,
   "id": "c1b47227-d664-4b81-b6f5-e88c10b01bed",
   "metadata": {
    "tags": []
   },
   "outputs": [
    {
     "name": "stdout",
     "output_type": "stream",
     "text": [
      "unique_id : object\n",
      "action_type : Int64\n",
      "visitNumber : Int64\n",
      "pageviews : Int64\n",
      "time_on_site : Int64\n",
      "traffic_source : object\n",
      "device_category : object\n",
      "country : object\n",
      "city : object\n",
      "operating_system : object\n",
      "traffic_campaign : object\n",
      "visits : Int64\n",
      "hits : Int64\n",
      "data_split : object\n"
     ]
    }
   ],
   "source": [
    "for col in df_cat_features.columns:\n",
    "    print(col,\":\",df_cat_features[col].dtype)"
   ]
  },
  {
   "cell_type": "code",
   "execution_count": 36,
   "id": "f7454fb0-9660-4982-9b07-e4a1154cb84b",
   "metadata": {
    "tags": []
   },
   "outputs": [
    {
     "data": {
      "text/plain": [
       "['traffic_source',\n",
       " 'device_category',\n",
       " 'country',\n",
       " 'city',\n",
       " 'operating_system',\n",
       " 'traffic_campaign']"
      ]
     },
     "execution_count": 36,
     "metadata": {},
     "output_type": "execute_result"
    }
   ],
   "source": [
    "CAT_FEATURES = [col for col in df_cat_features.columns if (df_cat_features[col].dtype==object and col!= \"unique_id\" and col!= \"data_split\")]\n",
    "CAT_FEATURES"
   ]
  },
  {
   "cell_type": "code",
   "execution_count": 39,
   "id": "b8c54806-f1c7-406a-9e13-1feadcb24f2f",
   "metadata": {
    "tags": []
   },
   "outputs": [],
   "source": [
    "# Bring in ordinal encoder\n",
    "from sklearn.preprocessing import OrdinalEncoder"
   ]
  },
  {
   "cell_type": "code",
   "execution_count": 163,
   "id": "8dcd620b-ebeb-4d73-92ba-3f1bd447ed7f",
   "metadata": {
    "tags": []
   },
   "outputs": [
    {
     "name": "stdout",
     "output_type": "stream",
     "text": [
      "['gs://york-bb-cohort-k_capbucket/preet_model/assets/0_categorical_label.txt', 'gs://york-bb-cohort-k_capbucket/preet_model/assets/1_categorical_label.txt', 'gs://york-bb-cohort-k_capbucket/preet_model/assets/2_categorical_label.txt', 'gs://york-bb-cohort-k_capbucket/preet_model/assets/3_categorical_label.txt', 'gs://york-bb-cohort-k_capbucket/preet_model/assets/4_categorical_label.txt', 'gs://york-bb-cohort-k_capbucket/preet_model/assets/5_categorical_label.txt']\n"
     ]
    }
   ],
   "source": [
    "# CATEGORICAL_FEATURES = []\n",
    "    \n",
    "# for idx, feature in enumerate(CAT_FEATURES):\n",
    "#     feature_vocab_file = f\"gs://{GCS_BUCKET}/{MODEL_NAME}/assets/{idx}_categorical_label.txt\"\n",
    "#     CATEGORICAL_FEATURES.append(feature_vocab_file)\n",
    "# print(CATEGORICAL_FEATURES)"
   ]
  },
  {
   "cell_type": "code",
   "execution_count": 40,
   "id": "dd69da2e-494e-4b5f-bacd-e1dca3ec3c4b",
   "metadata": {
    "tags": []
   },
   "outputs": [
    {
     "data": {
      "text/plain": [
       "{'traffic_source': OrdinalEncoder(handle_unknown='use_encoded_value', unknown_value=-1),\n",
       " 'device_category': OrdinalEncoder(handle_unknown='use_encoded_value', unknown_value=-1),\n",
       " 'country': OrdinalEncoder(handle_unknown='use_encoded_value', unknown_value=-1),\n",
       " 'city': OrdinalEncoder(handle_unknown='use_encoded_value', unknown_value=-1),\n",
       " 'operating_system': OrdinalEncoder(handle_unknown='use_encoded_value', unknown_value=-1),\n",
       " 'traffic_campaign': OrdinalEncoder(handle_unknown='use_encoded_value', unknown_value=-1)}"
      ]
     },
     "execution_count": 40,
     "metadata": {},
     "output_type": "execute_result"
    }
   ],
   "source": [
    "CATEGORICAL_FEATURES = []\n",
    "\n",
    "for idx, feature in enumerate(CAT_FEATURES):\n",
    "    feature_vocab_file = f\"gs://{GCS_BUCKET}/{MODEL_NAME}/assets/{idx}_categorical_label.txt\"\n",
    "    CATEGORICAL_FEATURES.append((feature, feature_vocab_file))\n",
    "\n",
    "feature_encoders = {}\n",
    "\n",
    "for feature, feat_file in CATEGORICAL_FEATURES:\n",
    "    feature_encoder = OrdinalEncoder(handle_unknown=\"use_encoded_value\", unknown_value=-1)\n",
    "    feature_vocab_df = pd.read_csv(feat_file, delimiter=\"\\t\", header=None).fillna('Unknown')\n",
    "    feature_encoder.fit(feature_vocab_df.values)\n",
    "    feature_encoders[feature] = feature_encoder\n",
    "\n",
    "feature_encoders\n"
   ]
  },
  {
   "cell_type": "code",
   "execution_count": 41,
   "id": "7ef99085-da77-4eb7-8aa5-d70a377e7b0f",
   "metadata": {
    "tags": []
   },
   "outputs": [],
   "source": [
    "# Transform instances to numerical values for inference\n",
    "def preprocess_xgboost(instances, cat_feature_list, feature_encoders):\n",
    "    transformed_instances = []\n",
    "    \n",
    "    for instance in instances:\n",
    "        for feature in cat_feature_list:\n",
    "            feature_int = feature_encoders[feature].transform([[instance[feature]]]).item()\n",
    "            instance[feature] = feature_int\n",
    "            instance_list = list(instance.values())\n",
    "        transformed_instances.append(instance_list)\n",
    "    return transformed_instances"
   ]
  },
  {
   "cell_type": "code",
   "execution_count": 44,
   "id": "f975095b-186b-4795-a644-3ad85a4acc2a",
   "metadata": {},
   "outputs": [
    {
     "data": {
      "application/vnd.jupyter.widget-view+json": {
       "model_id": "1219c3a88bf249d687ef115fb7761311",
       "version_major": 2,
       "version_minor": 0
      },
      "text/plain": [
       "Query is running:   0%|          |"
      ]
     },
     "metadata": {},
     "output_type": "display_data"
    },
    {
     "data": {
      "application/vnd.jupyter.widget-view+json": {
       "model_id": "bd1b8deec3fd4bab8af8d0611b5a3c27",
       "version_major": 2,
       "version_minor": 0
      },
      "text/plain": [
       "Downloading:   0%|          |"
      ]
     },
     "metadata": {},
     "output_type": "display_data"
    }
   ],
   "source": [
    "%%bigquery test_df --project $PROJECT_ID\n",
    "\n",
    "SELECT * EXCEPT(unique_id, action_type, data_split)\n",
    "FROM p_bq.ml_features2\n",
    "WHERE data_split=\"TEST\"\n",
    "LIMIT 2;"
   ]
  },
  {
   "cell_type": "code",
   "execution_count": 45,
   "id": "8f7d35db-7fbd-4f03-8beb-6fb548690492",
   "metadata": {
    "tags": []
   },
   "outputs": [],
   "source": [
    "# Convert dataframe records to feature dictionaries for preprocessing by feature name\n",
    "test_instances = test_df.astype(str).to_dict(orient='records')"
   ]
  },
  {
   "cell_type": "code",
   "execution_count": 46,
   "id": "64ffb19d-b1d6-418e-9c88-d51dfa3a1e8f",
   "metadata": {
    "tags": []
   },
   "outputs": [],
   "source": [
    "# Preprocess to transform categorical features and return numberical instances for prediction\n",
    "transformed_test_instances = preprocess_xgboost(test_instances, CAT_FEATURES, feature_encoders)"
   ]
  },
  {
   "cell_type": "code",
   "execution_count": 47,
   "id": "68440db0-1bd9-4486-8aca-b77384f47d38",
   "metadata": {
    "tags": []
   },
   "outputs": [],
   "source": [
    "# Generate predictions from model deployed to VertexAI endpoint\n",
    "predictions = endpoint.predict(instances=transformed_test_instances)"
   ]
  },
  {
   "cell_type": "code",
   "execution_count": 49,
   "id": "45af16a8-5bf4-49af-b95c-b6e987fcf130",
   "metadata": {},
   "outputs": [
    {
     "name": "stdout",
     "output_type": "stream",
     "text": [
      "Prediction: Customer 0 - Will Not Add to Cart [0.1640899032354355, 0.8359101414680481]\n",
      "{\"visitNumber\":\"1\",\"pageviews\":\"1\",\"time_on_site\":\"0\",\"traffic_source\":\"google\",\"device_category\":\"desktop\",\"country\":\"United Kingdom\",\"city\":\"not available in demo dataset\",\"operating_system\":\"Windows\",\"traffic_campaign\":\"(not set)\",\"visits\":\"1\",\"hits\":\"1\"}\n",
      "\n",
      "Prediction: Customer 1 - Will Not Add to Cart [0.1640899032354355, 0.8359101414680481]\n",
      "{\"visitNumber\":\"1\",\"pageviews\":\"1\",\"time_on_site\":\"0\",\"traffic_source\":\"google\",\"device_category\":\"desktop\",\"country\":\"United Kingdom\",\"city\":\"not available in demo dataset\",\"operating_system\":\"Windows\",\"traffic_campaign\":\"(not set)\",\"visits\":\"1\",\"hits\":\"1\"}\n",
      "\n"
     ]
    }
   ],
   "source": [
    "for idx, prediction in enumerate(predictions.predictions):\n",
    "    # class lables taken from model_metadata.json in gcs model directory\n",
    "    # BQ ML bin classification with 0.5 and above being a prediction of add to cart\n",
    "    action_type = \"Will Add to Cart\" if prediction[0] >= 0.5 else \"Will Not Add to Cart\"\n",
    "    print(f\"Prediction: Customer {idx} - {action_type} {prediction}\")\n",
    "    print(test_df.iloc[idx].astype(str).to_json() + \"\\n\")"
   ]
  },
  {
   "cell_type": "code",
   "execution_count": null,
   "id": "e6174aa0-5c92-4244-8489-9c616fbecd6a",
   "metadata": {},
   "outputs": [],
   "source": []
  }
 ],
 "metadata": {
  "environment": {
   "kernel": "conda-root-py",
   "name": "workbench-notebooks.m115",
   "type": "gcloud",
   "uri": "gcr.io/deeplearning-platform-release/workbench-notebooks:m115"
  },
  "kernelspec": {
   "display_name": "Python 3 (ipykernel) (Local)",
   "language": "python",
   "name": "conda-root-py"
  },
  "language_info": {
   "codemirror_mode": {
    "name": "ipython",
    "version": 3
   },
   "file_extension": ".py",
   "mimetype": "text/x-python",
   "name": "python",
   "nbconvert_exporter": "python",
   "pygments_lexer": "ipython3",
   "version": "3.10.13"
  }
 },
 "nbformat": 4,
 "nbformat_minor": 5
}
